{
  "cells": [
    {
      "cell_type": "markdown",
      "metadata": {
        "id": "IGkPEo7GOouO"
      },
      "source": [
        "#Kelly’s Ice Cream Shop Discount Analysis"
      ]
    },
    {
      "cell_type": "markdown",
      "metadata": {
        "id": "WF1V77HZOtwO"
      },
      "source": [
        "#Part 1 – Basic Data Understanding (Pandas)"
      ]
    },
    {
      "cell_type": "code",
      "execution_count": 33,
      "metadata": {
        "colab": {
          "base_uri": "https://localhost:8080/"
        },
        "id": "y2cOeSYVNlDX",
        "outputId": "d673c539-4f7a-40fd-fac8-01fcb86ce435"
      },
      "outputs": [
        {
          "name": "stdout",
          "output_type": "stream",
          "text": [
            "   customer_id  transaction_id  amount\n",
            "0         1001          339473      89\n",
            "1         1002          359433       5\n",
            "2         1003           43176      52\n",
            "3         1004           27169      19\n",
            "4         1001          530588       4\n",
            "5         1004          528902      78\n",
            "6         1005          584167      72\n",
            "7         1003           55479      45\n",
            "8         1005          500607      98\n",
            "9         1004          544617      65\n",
            "Shape:(100, 3)\n",
            "\n",
            "Column names: Index(['customer_id', 'transaction_id', 'amount'], dtype='object')\n",
            "\n",
            "Data types:\n",
            "customer_id       int64\n",
            "transaction_id    int64\n",
            "amount            int64\n",
            "dtype: object\n",
            "\n",
            "count    100.000000\n",
            "mean      54.850000\n",
            "std       27.635205\n",
            "min        4.000000\n",
            "25%       39.000000\n",
            "50%       52.000000\n",
            "75%       78.000000\n",
            "max       98.000000\n",
            "Name: amount, dtype: float64\n"
          ]
        }
      ],
      "source": [
        "import numpy as np\n",
        "import matplotlib.pyplot as plt\n",
        "import pandas as pd\n",
        "import seaborn as sns\n",
        "df=pd.read_csv('C:/Users/kishore/AI WORKFORCE/kellys_icecream_dataset.csv')\n",
        "print(df.head(10))\n",
        "print(f'Shape:{df.shape}\\n')\n",
        "print(f'Column names: {df.columns}\\n')\n",
        "print(f'Data types:\\n{df.dtypes}\\n')\n",
        "df.isnull().sum()  #check missing values\n",
        "df.duplicated().sum()  #check duplicate\n",
        "print(df['amount'].describe())"
      ]
    },
    {
      "cell_type": "markdown",
      "metadata": {
        "id": "Z8311IZkQWt5"
      },
      "source": [
        "#Part 2 – EDA (Exploratory Data Analysis)"
      ]
    },
    {
      "cell_type": "markdown",
      "metadata": {
        "id": "TdtPhU2hQ6Zn"
      },
      "source": [
        "Count the total number of transactions per customer."
      ]
    },
    {
      "cell_type": "code",
      "execution_count": 34,
      "metadata": {
        "colab": {
          "base_uri": "https://localhost:8080/"
        },
        "id": "ogR1PyEpQLzi",
        "outputId": "e6c787c9-287d-41fa-9cb0-afeda29778d7"
      },
      "outputs": [
        {
          "name": "stdout",
          "output_type": "stream",
          "text": [
            "   customer_id  transaction_id\n",
            "0         1001              22\n",
            "1         1002              17\n",
            "2         1003              15\n",
            "3         1004              20\n",
            "4         1005              26\n"
          ]
        }
      ],
      "source": [
        "a=df.groupby('customer_id')['transaction_id'].count().reset_index()\n",
        "print(a)"
      ]
    },
    {
      "cell_type": "markdown",
      "metadata": {
        "id": "78g3PM4URt8P"
      },
      "source": [
        "Find the 3rd transaction for each customer based on transaction_id ordering."
      ]
    },
    {
      "cell_type": "code",
      "execution_count": 35,
      "metadata": {
        "colab": {
          "base_uri": "https://localhost:8080/"
        },
        "id": "Buwc-qxoRxd-",
        "outputId": "7e81a984-819f-49f2-f2b7-7467b2c4e977"
      },
      "outputs": [
        {
          "name": "stdout",
          "output_type": "stream",
          "text": [
            "    customer_id  transaction_id  amount\n",
            "20         1003          102487      39\n",
            "10         1001          374711      94\n",
            "15         1002          415562      50\n",
            "8          1005          500607      98\n",
            "5          1004          528902      78\n"
          ]
        }
      ],
      "source": [
        "b = df.sort_values(by='transaction_id').groupby('customer_id').nth(2)\n",
        "print(b)"
      ]
    },
    {
      "cell_type": "markdown",
      "metadata": {
        "id": "OQ1aUWqHTvNA"
      },
      "source": [
        "Identify customers who received the 33% discount.\n",
        "\n",
        "\n"
      ]
    },
    {
      "cell_type": "code",
      "execution_count": 36,
      "metadata": {
        "colab": {
          "base_uri": "https://localhost:8080/",
          "height": 53
        },
        "id": "8IjPcOHdTynv",
        "outputId": "d518f53b-3ad9-4d87-ec51-26d8e07c6426"
      },
      "outputs": [
        {
          "data": {
            "text/html": [
              "<div>\n",
              "<style scoped>\n",
              "    .dataframe tbody tr th:only-of-type {\n",
              "        vertical-align: middle;\n",
              "    }\n",
              "\n",
              "    .dataframe tbody tr th {\n",
              "        vertical-align: top;\n",
              "    }\n",
              "\n",
              "    .dataframe thead th {\n",
              "        text-align: right;\n",
              "    }\n",
              "</style>\n",
              "<table border=\"1\" class=\"dataframe\">\n",
              "  <thead>\n",
              "    <tr style=\"text-align: right;\">\n",
              "      <th></th>\n",
              "      <th>customer_id</th>\n",
              "      <th>transaction_id</th>\n",
              "      <th>amount</th>\n",
              "    </tr>\n",
              "  </thead>\n",
              "  <tbody>\n",
              "  </tbody>\n",
              "</table>\n",
              "</div>"
            ],
            "text/plain": [
              "Empty DataFrame\n",
              "Columns: [customer_id, transaction_id, amount]\n",
              "Index: []"
            ]
          },
          "execution_count": 36,
          "metadata": {},
          "output_type": "execute_result"
        }
      ],
      "source": [
        "df[df['amount']==67]"
      ]
    },
    {
      "cell_type": "markdown",
      "metadata": {
        "id": "zlyKgqxxVxWz"
      },
      "source": [
        "Plot a histogram of original purchase amounts for 3rd transactions."
      ]
    },
    {
      "cell_type": "code",
      "execution_count": 37,
      "metadata": {
        "colab": {
          "base_uri": "https://localhost:8080/",
          "height": 564
        },
        "id": "VpFhK4cXVxIc",
        "outputId": "e261c446-4634-4b83-9511-759b6e89ecf8"
      },
      "outputs": [
        {
          "data": {
            "image/png": "[encoded data removed]",
            "text/plain": [
              "<Figure size 1000x600 with 1 Axes>"
            ]
          },
          "metadata": {},
          "output_type": "display_data"
        }
      ],
      "source": [
        "plt.figure(figsize=(10,6))\n",
        "sns.histplot(b['amount'], kde=True)\n",
        "plt.title('Histogram of Original Purchase Amounts for 3rd Transactions')\n",
        "plt.show()"
      ]
    },
    {
      "cell_type": "markdown",
      "metadata": {
        "id": "QyBXKdDsX-lo"
      },
      "source": [
        "Plot a histogram of discounted amounts for 3rd transactions."
      ]
    },
    {
      "cell_type": "code",
      "execution_count": 38,
      "metadata": {
        "colab": {
          "base_uri": "https://localhost:8080/",
          "height": 564
        },
        "id": "sb9eIuscYArg",
        "outputId": "36bf940a-f0ac-4df4-8291-7ecaafbda7e4"
      },
      "outputs": [
        {
          "data": {
            "image/png": "[encoded data removed]",
            "text/plain": [
              "<Figure size 1000x600 with 1 Axes>"
            ]
          },
          "metadata": {},
          "output_type": "display_data"
        }
      ],
      "source": [
        "b['discounted amount']=df['amount']*0.33\n",
        "plt.figure(figsize=(10,6))\n",
        "sns.histplot(b['discounted amount'], kde=True)\n",
        "plt.title('Histogram of Discounted Amounts for 3rd Transactions')\n",
        "plt.show()"
      ]
    },
    {
      "cell_type": "markdown",
      "metadata": {
        "id": "CHzejM2pZjX1"
      },
      "source": [
        "#Part 3 – Statistics"
      ]
    },
    {
      "cell_type": "markdown",
      "metadata": {
        "id": "cll3o0P6ZlVK"
      },
      "source": [
        "Calculate the average amount for all transactions."
      ]
    },
    {
      "cell_type": "code",
      "execution_count": 39,
      "metadata": {
        "colab": {
          "base_uri": "https://localhost:8080/"
        },
        "id": "9ic9yZ50ZnTr",
        "outputId": "aa892a15-be18-4e80-e805-69035b9b0217"
      },
      "outputs": [
        {
          "name": "stdout",
          "output_type": "stream",
          "text": [
            "54.85\n"
          ]
        }
      ],
      "source": [
        "print(df['amount'].mean())"
      ]
    },
    {
      "cell_type": "markdown",
      "metadata": {
        "id": "QVgxfsHdZ0dz"
      },
      "source": [
        "Calculate the average discounted_amount for 3rd transactions."
      ]
    },
    {
      "cell_type": "code",
      "execution_count": 40,
      "metadata": {
        "colab": {
          "base_uri": "https://localhost:8080/"
        },
        "id": "DNZBI5F0Z21R",
        "outputId": "a9cc2ccb-b9c4-4232-990d-e5a19cded564"
      },
      "outputs": [
        {
          "name": "stdout",
          "output_type": "stream",
          "text": [
            "23.694\n"
          ]
        }
      ],
      "source": [
        "print(b['discounted amount'].mean())"
      ]
    },
    {
      "cell_type": "markdown",
      "metadata": {
        "id": "fU-HwRiufZrU"
      },
      "source": [
        "Probability: Pick a random transaction — what is the probability that it is a discounted 3rd purchase?"
      ]
    },
    {
      "cell_type": "code",
      "execution_count": 41,
      "metadata": {
        "colab": {
          "base_uri": "https://localhost:8080/"
        },
        "id": "sM3fb2DLfcCT",
        "outputId": "d467d108-5ef3-4693-c3c2-bb930528ab2c"
      },
      "outputs": [
        {
          "name": "stdout",
          "output_type": "stream",
          "text": [
            "Number of discounted 3rd transactions:89\n",
            "Total number of transactions:100\n",
            "Probability of a random transaction being a discounted 3rd purchase:0.89\n"
          ]
        }
      ],
      "source": [
        "discounted=df['amount'][0]\n",
        "total=df.shape[0]\n",
        "prob=discounted/total\n",
        "print(f\"Number of discounted 3rd transactions:{discounted}\")\n",
        "print(f\"Total number of transactions:{total}\")\n",
        "print(f\"Probability of a random transaction being a discounted 3rd purchase:{prob:.2f}\")"
      ]
    },
    {
      "cell_type": "markdown",
      "metadata": {
        "id": "WGhF3PRZjjRB"
      },
      "source": [
        "#Part 4 – Linear Algebra & NumPy"
      ]
    },
    {
      "cell_type": "markdown",
      "metadata": {
        "id": "kmFjdi9pjl4t"
      },
      "source": [
        "Represent amount as a NumPy array."
      ]
    },
    {
      "cell_type": "code",
      "execution_count": 42,
      "metadata": {
        "colab": {
          "base_uri": "https://localhost:8080/"
        },
        "id": "QCSRJNmSjoBj",
        "outputId": "983770f3-45bc-40b5-fcc7-3ca08eebc3d3"
      },
      "outputs": [
        {
          "name": "stdout",
          "output_type": "stream",
          "text": [
            "[89  5 52 19  4 78 72 45 98 65 94 42 43 19 55 50 78 92 30 91 39 58 78 72\n",
            " 58 43 78  4 39 30 52 94 43 43 39 94 50 78 30 52 30 50 19 78 78 55 19 89\n",
            " 45 91 45 92  5 72 19 55 52 19 78 98 42  5 78 45 89 50 98 45 78 94 89 43\n",
            " 43 39 55 55 78 78 91 89 19 92 92 65 43 89 19  4 39 30  5 92 50 43  5 19\n",
            " 58 65 43 45]\n"
          ]
        }
      ],
      "source": [
        "amounts=df['amount'].to_numpy()\n",
        "print(amounts)"
      ]
    },
    {
      "cell_type": "markdown",
      "metadata": {
        "id": "TY53rRSumRMB"
      },
      "source": [
        "Create a discount vector (0.33 applied only to 3rd purchases, else 0)."
      ]
    },
    {
      "cell_type": "code",
      "execution_count": 43,
      "metadata": {
        "colab": {
          "base_uri": "https://localhost:8080/"
        },
        "id": "hb7bCdnWmTbg",
        "outputId": "76d4f563-40d6-4ad3-93b5-7e5da026b35e"
      },
      "outputs": [
        {
          "name": "stdout",
          "output_type": "stream",
          "text": [
            "[0.   0.   0.33 0.   0.   0.   0.   0.   0.   0.   0.   0.   0.   0.\n",
            " 0.   0.   0.   0.   0.   0.   0.   0.   0.   0.   0.33 0.   0.   0.\n",
            " 0.   0.   0.   0.   0.   0.   0.   0.   0.   0.   0.   0.   0.   0.33\n",
            " 0.   0.   0.   0.   0.   0.   0.   0.   0.   0.   0.   0.   0.   0.\n",
            " 0.33 0.   0.   0.   0.   0.   0.   0.   0.   0.   0.   0.   0.   0.\n",
            " 0.   0.   0.   0.   0.   0.   0.33 0.   0.   0.   0.   0.   0.   0.\n",
            " 0.   0.   0.   0.   0.   0.   0.   0.   0.   0.   0.   0.   0.   0.\n",
            " 0.   0.  ]\n"
          ]
        }
      ],
      "source": [
        "dfsort=df.sort_values(by=[\"customer_id\", \"transaction_id\"])\n",
        "dfsort['purchase'] = dfsort.groupby('customer_id').cumcount()+1\n",
        "discount_vector=np.where(dfsort['purchase']==3,0.33,0)\n",
        "print(discount_vector)"
      ]
    },
    {
      "cell_type": "markdown",
      "metadata": {
        "id": "lGK-mJT-mfmR"
      },
      "source": [
        "Perform element-wise multiplication to compute discounts."
      ]
    },
    {
      "cell_type": "code",
      "execution_count": 44,
      "metadata": {
        "colab": {
          "base_uri": "https://localhost:8080/"
        },
        "id": "JV3fxIyTmiJp",
        "outputId": "add07269-b53c-4004-8eef-ea13457c4c62"
      },
      "outputs": [
        {
          "name": "stdout",
          "output_type": "stream",
          "text": [
            "[ 0.    0.   17.16  0.    0.    0.    0.    0.    0.    0.    0.    0.\n",
            "  0.    0.    0.    0.    0.    0.    0.    0.    0.    0.    0.    0.\n",
            " 19.14  0.    0.    0.    0.    0.    0.    0.    0.    0.    0.    0.\n",
            "  0.    0.    0.    0.    0.   16.5   0.    0.    0.    0.    0.    0.\n",
            "  0.    0.    0.    0.    0.    0.    0.    0.   17.16  0.    0.    0.\n",
            "  0.    0.    0.    0.    0.    0.    0.    0.    0.    0.    0.    0.\n",
            "  0.    0.    0.    0.   25.74  0.    0.    0.    0.    0.    0.    0.\n",
            "  0.    0.    0.    0.    0.    0.    0.    0.    0.    0.    0.    0.\n",
            "  0.    0.    0.    0.  ]\n"
          ]
        }
      ],
      "source": [
        "discount=discount_vector*amounts\n",
        "print(discount)"
      ]
    },
    {
      "cell_type": "markdown",
      "metadata": {
        "id": "qiDjnjY3nAhZ"
      },
      "source": [
        "Compute the total discount given across all customers (dot product)."
      ]
    },
    {
      "cell_type": "code",
      "execution_count": 45,
      "metadata": {
        "colab": {
          "base_uri": "https://localhost:8080/"
        },
        "id": "calVAAjanCcu",
        "outputId": "d7db2263-9991-4556-c64a-4ae04a1efa54"
      },
      "outputs": [
        {
          "name": "stdout",
          "output_type": "stream",
          "text": [
            "5727.48\n"
          ]
        }
      ],
      "source": [
        "total_dis=np.dot(amounts,discount).round(2)\n",
        "print(total_dis)"
      ]
    },
    {
      "cell_type": "markdown",
      "metadata": {
        "id": "CCCAK-EUnn4B"
      },
      "source": [
        "Perform weighted sum using [0.67, 0.33] for non-discounted and discounted transactions."
      ]
    },
    {
      "cell_type": "code",
      "execution_count": 46,
      "metadata": {
        "colab": {
          "base_uri": "https://localhost:8080/"
        },
        "id": "mSe2N30inpoL",
        "outputId": "a751877b-1441-40b4-be60-4751e1532175"
      },
      "outputs": [
        {
          "name": "stdout",
          "output_type": "stream",
          "text": [
            "65.3\n"
          ]
        }
      ],
      "source": [
        "weighted=np.where(discount_vector==0.33,0.33,0.67)\n",
        "print(np.sum(weighted).round(2))"
      ]
    },
    {
      "cell_type": "markdown",
      "metadata": {
        "id": "DsQr1sXNpatL"
      },
      "source": [
        "#Part 5 – Calculus"
      ]
    },
    {
      "cell_type": "markdown",
      "metadata": {
        "id": "z8ytBfu75C0b"
      },
      "source": [
        " Find the derivative of Discounted_Amount with respect to Amount (use SymPy).\n",
        "Interpret the derivative in the context of the problem."
      ]
    },
    {
      "cell_type": "code",
      "execution_count": 47,
      "metadata": {
        "colab": {
          "base_uri": "https://localhost:8080/"
        },
        "id": "iai3VVHup2Dn",
        "outputId": "5b664c36-4c7d-4e33-9fc5-cbad6f42b308"
      },
      "outputs": [
        {
          "name": "stdout",
          "output_type": "stream",
          "text": [
            "1 - DiscountRate\n"
          ]
        }
      ],
      "source": [
        "import sympy as sp\n",
        "Amount, DiscountRate = sp.symbols('Amount DiscountRate')\n",
        "Discounted_Amount = Amount * (1 - DiscountRate)\n",
        "derivative = sp.diff(Discounted_Amount, Amount)\n",
        "print(derivative)"
      ]
    },
    {
      "cell_type": "markdown",
      "metadata": {
        "id": "ib-3BjuarlF8"
      },
      "source": [
        "#Part 6 – Feature Engineering"
      ]
    },
    {
      "cell_type": "markdown",
      "metadata": {
        "id": "f6DVGjwjxk0l"
      },
      "source": [
        "Create a new column Transaction_Rank (purchase number per customer)."
      ]
    },
    {
      "cell_type": "code",
      "execution_count": 48,
      "metadata": {
        "colab": {
          "base_uri": "https://localhost:8080/",
          "height": 424
        },
        "id": "AuEdC2xXuz-l",
        "outputId": "9c18bd04-323a-4280-a76c-502d59c64167"
      },
      "outputs": [
        {
          "data": {
            "text/html": [
              "<div>\n",
              "<style scoped>\n",
              "    .dataframe tbody tr th:only-of-type {\n",
              "        vertical-align: middle;\n",
              "    }\n",
              "\n",
              "    .dataframe tbody tr th {\n",
              "        vertical-align: top;\n",
              "    }\n",
              "\n",
              "    .dataframe thead th {\n",
              "        text-align: right;\n",
              "    }\n",
              "</style>\n",
              "<table border=\"1\" class=\"dataframe\">\n",
              "  <thead>\n",
              "    <tr style=\"text-align: right;\">\n",
              "      <th></th>\n",
              "      <th>customer_id</th>\n",
              "      <th>transaction_id</th>\n",
              "      <th>amount</th>\n",
              "      <th>Transaction_Rank</th>\n",
              "    </tr>\n",
              "  </thead>\n",
              "  <tbody>\n",
              "    <tr>\n",
              "      <th>13</th>\n",
              "      <td>1001</td>\n",
              "      <td>225602</td>\n",
              "      <td>19</td>\n",
              "      <td>1</td>\n",
              "    </tr>\n",
              "    <tr>\n",
              "      <th>0</th>\n",
              "      <td>1001</td>\n",
              "      <td>339473</td>\n",
              "      <td>89</td>\n",
              "      <td>2</td>\n",
              "    </tr>\n",
              "    <tr>\n",
              "      <th>10</th>\n",
              "      <td>1001</td>\n",
              "      <td>374711</td>\n",
              "      <td>94</td>\n",
              "      <td>3</td>\n",
              "    </tr>\n",
              "    <tr>\n",
              "      <th>17</th>\n",
              "      <td>1001</td>\n",
              "      <td>445346</td>\n",
              "      <td>92</td>\n",
              "      <td>4</td>\n",
              "    </tr>\n",
              "    <tr>\n",
              "      <th>4</th>\n",
              "      <td>1001</td>\n",
              "      <td>530588</td>\n",
              "      <td>4</td>\n",
              "      <td>5</td>\n",
              "    </tr>\n",
              "    <tr>\n",
              "      <th>...</th>\n",
              "      <td>...</td>\n",
              "      <td>...</td>\n",
              "      <td>...</td>\n",
              "      <td>...</td>\n",
              "    </tr>\n",
              "    <tr>\n",
              "      <th>77</th>\n",
              "      <td>1005</td>\n",
              "      <td>900055</td>\n",
              "      <td>78</td>\n",
              "      <td>22</td>\n",
              "    </tr>\n",
              "    <tr>\n",
              "      <th>84</th>\n",
              "      <td>1005</td>\n",
              "      <td>900062</td>\n",
              "      <td>43</td>\n",
              "      <td>23</td>\n",
              "    </tr>\n",
              "    <tr>\n",
              "      <th>93</th>\n",
              "      <td>1005</td>\n",
              "      <td>900071</td>\n",
              "      <td>43</td>\n",
              "      <td>24</td>\n",
              "    </tr>\n",
              "    <tr>\n",
              "      <th>96</th>\n",
              "      <td>1005</td>\n",
              "      <td>900074</td>\n",
              "      <td>58</td>\n",
              "      <td>25</td>\n",
              "    </tr>\n",
              "    <tr>\n",
              "      <th>98</th>\n",
              "      <td>1005</td>\n",
              "      <td>900076</td>\n",
              "      <td>43</td>\n",
              "      <td>26</td>\n",
              "    </tr>\n",
              "  </tbody>\n",
              "</table>\n",
              "<p>100 rows × 4 columns</p>\n",
              "</div>"
            ],
            "text/plain": [
              "    customer_id  transaction_id  amount  Transaction_Rank\n",
              "13         1001          225602      19                 1\n",
              "0          1001          339473      89                 2\n",
              "10         1001          374711      94                 3\n",
              "17         1001          445346      92                 4\n",
              "4          1001          530588       4                 5\n",
              "..          ...             ...     ...               ...\n",
              "77         1005          900055      78                22\n",
              "84         1005          900062      43                23\n",
              "93         1005          900071      43                24\n",
              "96         1005          900074      58                25\n",
              "98         1005          900076      43                26\n",
              "\n",
              "[100 rows x 4 columns]"
            ]
          },
          "execution_count": 48,
          "metadata": {},
          "output_type": "execute_result"
        }
      ],
      "source": [
        "dfnew=df.sort_values(by=[\"customer_id\", \"transaction_id\"])\n",
        "dfnew['Transaction_Rank'] = dfsort.groupby('customer_id').cumcount()+1\n",
        "dfnew"
      ]
    },
    {
      "cell_type": "markdown",
      "metadata": {
        "id": "lC79dAeZxp05"
      },
      "source": [
        "Create Discount_Applied column (1 if it’s the 3rd purchase, else 0)."
      ]
    },
    {
      "cell_type": "code",
      "execution_count": 49,
      "metadata": {
        "colab": {
          "base_uri": "https://localhost:8080/",
          "height": 424
        },
        "id": "meVM4qu7xPm6",
        "outputId": "0bbc184d-57fa-4ae6-c959-c85121c82c19"
      },
      "outputs": [
        {
          "data": {
            "text/html": [
              "<div>\n",
              "<style scoped>\n",
              "    .dataframe tbody tr th:only-of-type {\n",
              "        vertical-align: middle;\n",
              "    }\n",
              "\n",
              "    .dataframe tbody tr th {\n",
              "        vertical-align: top;\n",
              "    }\n",
              "\n",
              "    .dataframe thead th {\n",
              "        text-align: right;\n",
              "    }\n",
              "</style>\n",
              "<table border=\"1\" class=\"dataframe\">\n",
              "  <thead>\n",
              "    <tr style=\"text-align: right;\">\n",
              "      <th></th>\n",
              "      <th>customer_id</th>\n",
              "      <th>transaction_id</th>\n",
              "      <th>amount</th>\n",
              "      <th>Transaction_Rank</th>\n",
              "      <th>Discount_Applied</th>\n",
              "    </tr>\n",
              "  </thead>\n",
              "  <tbody>\n",
              "    <tr>\n",
              "      <th>13</th>\n",
              "      <td>1001</td>\n",
              "      <td>225602</td>\n",
              "      <td>19</td>\n",
              "      <td>1</td>\n",
              "      <td>0</td>\n",
              "    </tr>\n",
              "    <tr>\n",
              "      <th>0</th>\n",
              "      <td>1001</td>\n",
              "      <td>339473</td>\n",
              "      <td>89</td>\n",
              "      <td>2</td>\n",
              "      <td>0</td>\n",
              "    </tr>\n",
              "    <tr>\n",
              "      <th>10</th>\n",
              "      <td>1001</td>\n",
              "      <td>374711</td>\n",
              "      <td>94</td>\n",
              "      <td>3</td>\n",
              "      <td>1</td>\n",
              "    </tr>\n",
              "    <tr>\n",
              "      <th>17</th>\n",
              "      <td>1001</td>\n",
              "      <td>445346</td>\n",
              "      <td>92</td>\n",
              "      <td>4</td>\n",
              "      <td>0</td>\n",
              "    </tr>\n",
              "    <tr>\n",
              "      <th>4</th>\n",
              "      <td>1001</td>\n",
              "      <td>530588</td>\n",
              "      <td>4</td>\n",
              "      <td>5</td>\n",
              "      <td>0</td>\n",
              "    </tr>\n",
              "    <tr>\n",
              "      <th>...</th>\n",
              "      <td>...</td>\n",
              "      <td>...</td>\n",
              "      <td>...</td>\n",
              "      <td>...</td>\n",
              "      <td>...</td>\n",
              "    </tr>\n",
              "    <tr>\n",
              "      <th>77</th>\n",
              "      <td>1005</td>\n",
              "      <td>900055</td>\n",
              "      <td>78</td>\n",
              "      <td>22</td>\n",
              "      <td>0</td>\n",
              "    </tr>\n",
              "    <tr>\n",
              "      <th>84</th>\n",
              "      <td>1005</td>\n",
              "      <td>900062</td>\n",
              "      <td>43</td>\n",
              "      <td>23</td>\n",
              "      <td>0</td>\n",
              "    </tr>\n",
              "    <tr>\n",
              "      <th>93</th>\n",
              "      <td>1005</td>\n",
              "      <td>900071</td>\n",
              "      <td>43</td>\n",
              "      <td>24</td>\n",
              "      <td>0</td>\n",
              "    </tr>\n",
              "    <tr>\n",
              "      <th>96</th>\n",
              "      <td>1005</td>\n",
              "      <td>900074</td>\n",
              "      <td>58</td>\n",
              "      <td>25</td>\n",
              "      <td>0</td>\n",
              "    </tr>\n",
              "    <tr>\n",
              "      <th>98</th>\n",
              "      <td>1005</td>\n",
              "      <td>900076</td>\n",
              "      <td>43</td>\n",
              "      <td>26</td>\n",
              "      <td>0</td>\n",
              "    </tr>\n",
              "  </tbody>\n",
              "</table>\n",
              "<p>100 rows × 5 columns</p>\n",
              "</div>"
            ],
            "text/plain": [
              "    customer_id  transaction_id  amount  Transaction_Rank  Discount_Applied\n",
              "13         1001          225602      19                 1                 0\n",
              "0          1001          339473      89                 2                 0\n",
              "10         1001          374711      94                 3                 1\n",
              "17         1001          445346      92                 4                 0\n",
              "4          1001          530588       4                 5                 0\n",
              "..          ...             ...     ...               ...               ...\n",
              "77         1005          900055      78                22                 0\n",
              "84         1005          900062      43                23                 0\n",
              "93         1005          900071      43                24                 0\n",
              "96         1005          900074      58                25                 0\n",
              "98         1005          900076      43                26                 0\n",
              "\n",
              "[100 rows x 5 columns]"
            ]
          },
          "execution_count": 49,
          "metadata": {},
          "output_type": "execute_result"
        }
      ],
      "source": [
        "dfnew['Discount_Applied']=np.where(dfnew['Transaction_Rank']==3,1,0)\n",
        "dfnew"
      ]
    },
    {
      "cell_type": "markdown",
      "metadata": {
        "id": "t4PUccF5xsyB"
      },
      "source": [
        "Create Discounted_Amount column (apply 33% discount for 3rd purchases)."
      ]
    },
    {
      "cell_type": "code",
      "execution_count": 50,
      "metadata": {
        "colab": {
          "base_uri": "https://localhost:8080/",
          "height": 424
        },
        "id": "K8QESBQbxYTF",
        "outputId": "6e87eb19-6fcc-45be-9a38-2e3487c28ca2"
      },
      "outputs": [
        {
          "data": {
            "text/html": [
              "<div>\n",
              "<style scoped>\n",
              "    .dataframe tbody tr th:only-of-type {\n",
              "        vertical-align: middle;\n",
              "    }\n",
              "\n",
              "    .dataframe tbody tr th {\n",
              "        vertical-align: top;\n",
              "    }\n",
              "\n",
              "    .dataframe thead th {\n",
              "        text-align: right;\n",
              "    }\n",
              "</style>\n",
              "<table border=\"1\" class=\"dataframe\">\n",
              "  <thead>\n",
              "    <tr style=\"text-align: right;\">\n",
              "      <th></th>\n",
              "      <th>customer_id</th>\n",
              "      <th>transaction_id</th>\n",
              "      <th>amount</th>\n",
              "      <th>Transaction_Rank</th>\n",
              "      <th>Discount_Applied</th>\n",
              "      <th>Discounted_Amount</th>\n",
              "    </tr>\n",
              "  </thead>\n",
              "  <tbody>\n",
              "    <tr>\n",
              "      <th>13</th>\n",
              "      <td>1001</td>\n",
              "      <td>225602</td>\n",
              "      <td>19</td>\n",
              "      <td>1</td>\n",
              "      <td>0</td>\n",
              "      <td>0.00</td>\n",
              "    </tr>\n",
              "    <tr>\n",
              "      <th>0</th>\n",
              "      <td>1001</td>\n",
              "      <td>339473</td>\n",
              "      <td>89</td>\n",
              "      <td>2</td>\n",
              "      <td>0</td>\n",
              "      <td>0.00</td>\n",
              "    </tr>\n",
              "    <tr>\n",
              "      <th>10</th>\n",
              "      <td>1001</td>\n",
              "      <td>374711</td>\n",
              "      <td>94</td>\n",
              "      <td>3</td>\n",
              "      <td>1</td>\n",
              "      <td>31.02</td>\n",
              "    </tr>\n",
              "    <tr>\n",
              "      <th>17</th>\n",
              "      <td>1001</td>\n",
              "      <td>445346</td>\n",
              "      <td>92</td>\n",
              "      <td>4</td>\n",
              "      <td>0</td>\n",
              "      <td>0.00</td>\n",
              "    </tr>\n",
              "    <tr>\n",
              "      <th>4</th>\n",
              "      <td>1001</td>\n",
              "      <td>530588</td>\n",
              "      <td>4</td>\n",
              "      <td>5</td>\n",
              "      <td>0</td>\n",
              "      <td>0.00</td>\n",
              "    </tr>\n",
              "    <tr>\n",
              "      <th>...</th>\n",
              "      <td>...</td>\n",
              "      <td>...</td>\n",
              "      <td>...</td>\n",
              "      <td>...</td>\n",
              "      <td>...</td>\n",
              "      <td>...</td>\n",
              "    </tr>\n",
              "    <tr>\n",
              "      <th>77</th>\n",
              "      <td>1005</td>\n",
              "      <td>900055</td>\n",
              "      <td>78</td>\n",
              "      <td>22</td>\n",
              "      <td>0</td>\n",
              "      <td>0.00</td>\n",
              "    </tr>\n",
              "    <tr>\n",
              "      <th>84</th>\n",
              "      <td>1005</td>\n",
              "      <td>900062</td>\n",
              "      <td>43</td>\n",
              "      <td>23</td>\n",
              "      <td>0</td>\n",
              "      <td>0.00</td>\n",
              "    </tr>\n",
              "    <tr>\n",
              "      <th>93</th>\n",
              "      <td>1005</td>\n",
              "      <td>900071</td>\n",
              "      <td>43</td>\n",
              "      <td>24</td>\n",
              "      <td>0</td>\n",
              "      <td>0.00</td>\n",
              "    </tr>\n",
              "    <tr>\n",
              "      <th>96</th>\n",
              "      <td>1005</td>\n",
              "      <td>900074</td>\n",
              "      <td>58</td>\n",
              "      <td>25</td>\n",
              "      <td>0</td>\n",
              "      <td>0.00</td>\n",
              "    </tr>\n",
              "    <tr>\n",
              "      <th>98</th>\n",
              "      <td>1005</td>\n",
              "      <td>900076</td>\n",
              "      <td>43</td>\n",
              "      <td>26</td>\n",
              "      <td>0</td>\n",
              "      <td>0.00</td>\n",
              "    </tr>\n",
              "  </tbody>\n",
              "</table>\n",
              "<p>100 rows × 6 columns</p>\n",
              "</div>"
            ],
            "text/plain": [
              "    customer_id  transaction_id  amount  Transaction_Rank  Discount_Applied  \\\n",
              "13         1001          225602      19                 1                 0   \n",
              "0          1001          339473      89                 2                 0   \n",
              "10         1001          374711      94                 3                 1   \n",
              "17         1001          445346      92                 4                 0   \n",
              "4          1001          530588       4                 5                 0   \n",
              "..          ...             ...     ...               ...               ...   \n",
              "77         1005          900055      78                22                 0   \n",
              "84         1005          900062      43                23                 0   \n",
              "93         1005          900071      43                24                 0   \n",
              "96         1005          900074      58                25                 0   \n",
              "98         1005          900076      43                26                 0   \n",
              "\n",
              "    Discounted_Amount  \n",
              "13               0.00  \n",
              "0                0.00  \n",
              "10              31.02  \n",
              "17               0.00  \n",
              "4                0.00  \n",
              "..                ...  \n",
              "77               0.00  \n",
              "84               0.00  \n",
              "93               0.00  \n",
              "96               0.00  \n",
              "98               0.00  \n",
              "\n",
              "[100 rows x 6 columns]"
            ]
          },
          "execution_count": 50,
          "metadata": {},
          "output_type": "execute_result"
        }
      ],
      "source": [
        "dfnew['Discounted_Amount']=np.where(dfnew['Discount_Applied']==1,dfnew['amount']*0.33,0)\n",
        "dfnew"
      ]
    },
    {
      "cell_type": "markdown",
      "metadata": {
        "id": "oqu-6y4pxu1j"
      },
      "source": [
        "Create Savings column = amount - discounted_amount."
      ]
    },
    {
      "cell_type": "code",
      "execution_count": 51,
      "metadata": {
        "colab": {
          "base_uri": "https://localhost:8080/",
          "height": 424
        },
        "id": "T7KmKEvNxccr",
        "outputId": "cce69208-c7da-4a4e-9c0f-6d7db7d6b794"
      },
      "outputs": [
        {
          "data": {
            "text/html": [
              "<div>\n",
              "<style scoped>\n",
              "    .dataframe tbody tr th:only-of-type {\n",
              "        vertical-align: middle;\n",
              "    }\n",
              "\n",
              "    .dataframe tbody tr th {\n",
              "        vertical-align: top;\n",
              "    }\n",
              "\n",
              "    .dataframe thead th {\n",
              "        text-align: right;\n",
              "    }\n",
              "</style>\n",
              "<table border=\"1\" class=\"dataframe\">\n",
              "  <thead>\n",
              "    <tr style=\"text-align: right;\">\n",
              "      <th></th>\n",
              "      <th>customer_id</th>\n",
              "      <th>transaction_id</th>\n",
              "      <th>amount</th>\n",
              "      <th>Transaction_Rank</th>\n",
              "      <th>Discount_Applied</th>\n",
              "      <th>Discounted_Amount</th>\n",
              "      <th>Savings</th>\n",
              "    </tr>\n",
              "  </thead>\n",
              "  <tbody>\n",
              "    <tr>\n",
              "      <th>13</th>\n",
              "      <td>1001</td>\n",
              "      <td>225602</td>\n",
              "      <td>19</td>\n",
              "      <td>1</td>\n",
              "      <td>0</td>\n",
              "      <td>0.00</td>\n",
              "      <td>19.00</td>\n",
              "    </tr>\n",
              "    <tr>\n",
              "      <th>0</th>\n",
              "      <td>1001</td>\n",
              "      <td>339473</td>\n",
              "      <td>89</td>\n",
              "      <td>2</td>\n",
              "      <td>0</td>\n",
              "      <td>0.00</td>\n",
              "      <td>89.00</td>\n",
              "    </tr>\n",
              "    <tr>\n",
              "      <th>10</th>\n",
              "      <td>1001</td>\n",
              "      <td>374711</td>\n",
              "      <td>94</td>\n",
              "      <td>3</td>\n",
              "      <td>1</td>\n",
              "      <td>31.02</td>\n",
              "      <td>62.98</td>\n",
              "    </tr>\n",
              "    <tr>\n",
              "      <th>17</th>\n",
              "      <td>1001</td>\n",
              "      <td>445346</td>\n",
              "      <td>92</td>\n",
              "      <td>4</td>\n",
              "      <td>0</td>\n",
              "      <td>0.00</td>\n",
              "      <td>92.00</td>\n",
              "    </tr>\n",
              "    <tr>\n",
              "      <th>4</th>\n",
              "      <td>1001</td>\n",
              "      <td>530588</td>\n",
              "      <td>4</td>\n",
              "      <td>5</td>\n",
              "      <td>0</td>\n",
              "      <td>0.00</td>\n",
              "      <td>4.00</td>\n",
              "    </tr>\n",
              "    <tr>\n",
              "      <th>...</th>\n",
              "      <td>...</td>\n",
              "      <td>...</td>\n",
              "      <td>...</td>\n",
              "      <td>...</td>\n",
              "      <td>...</td>\n",
              "      <td>...</td>\n",
              "      <td>...</td>\n",
              "    </tr>\n",
              "    <tr>\n",
              "      <th>77</th>\n",
              "      <td>1005</td>\n",
              "      <td>900055</td>\n",
              "      <td>78</td>\n",
              "      <td>22</td>\n",
              "      <td>0</td>\n",
              "      <td>0.00</td>\n",
              "      <td>78.00</td>\n",
              "    </tr>\n",
              "    <tr>\n",
              "      <th>84</th>\n",
              "      <td>1005</td>\n",
              "      <td>900062</td>\n",
              "      <td>43</td>\n",
              "      <td>23</td>\n",
              "      <td>0</td>\n",
              "      <td>0.00</td>\n",
              "      <td>43.00</td>\n",
              "    </tr>\n",
              "    <tr>\n",
              "      <th>93</th>\n",
              "      <td>1005</td>\n",
              "      <td>900071</td>\n",
              "      <td>43</td>\n",
              "      <td>24</td>\n",
              "      <td>0</td>\n",
              "      <td>0.00</td>\n",
              "      <td>43.00</td>\n",
              "    </tr>\n",
              "    <tr>\n",
              "      <th>96</th>\n",
              "      <td>1005</td>\n",
              "      <td>900074</td>\n",
              "      <td>58</td>\n",
              "      <td>25</td>\n",
              "      <td>0</td>\n",
              "      <td>0.00</td>\n",
              "      <td>58.00</td>\n",
              "    </tr>\n",
              "    <tr>\n",
              "      <th>98</th>\n",
              "      <td>1005</td>\n",
              "      <td>900076</td>\n",
              "      <td>43</td>\n",
              "      <td>26</td>\n",
              "      <td>0</td>\n",
              "      <td>0.00</td>\n",
              "      <td>43.00</td>\n",
              "    </tr>\n",
              "  </tbody>\n",
              "</table>\n",
              "<p>100 rows × 7 columns</p>\n",
              "</div>"
            ],
            "text/plain": [
              "    customer_id  transaction_id  amount  Transaction_Rank  Discount_Applied  \\\n",
              "13         1001          225602      19                 1                 0   \n",
              "0          1001          339473      89                 2                 0   \n",
              "10         1001          374711      94                 3                 1   \n",
              "17         1001          445346      92                 4                 0   \n",
              "4          1001          530588       4                 5                 0   \n",
              "..          ...             ...     ...               ...               ...   \n",
              "77         1005          900055      78                22                 0   \n",
              "84         1005          900062      43                23                 0   \n",
              "93         1005          900071      43                24                 0   \n",
              "96         1005          900074      58                25                 0   \n",
              "98         1005          900076      43                26                 0   \n",
              "\n",
              "    Discounted_Amount  Savings  \n",
              "13               0.00    19.00  \n",
              "0                0.00    89.00  \n",
              "10              31.02    62.98  \n",
              "17               0.00    92.00  \n",
              "4                0.00     4.00  \n",
              "..                ...      ...  \n",
              "77               0.00    78.00  \n",
              "84               0.00    43.00  \n",
              "93               0.00    43.00  \n",
              "96               0.00    58.00  \n",
              "98               0.00    43.00  \n",
              "\n",
              "[100 rows x 7 columns]"
            ]
          },
          "execution_count": 51,
          "metadata": {},
          "output_type": "execute_result"
        }
      ],
      "source": [
        "dfnew['Savings']=dfnew['amount']-dfnew['Discounted_Amount']\n",
        "dfnew"
      ]
    },
    {
      "cell_type": "markdown",
      "metadata": {
        "id": "0ewAsrrQx0AP"
      },
      "source": [
        "#Part 7 – SQL Simulation in Pandas"
      ]
    },
    {
      "cell_type": "markdown",
      "metadata": {
        "id": "YXAmr2IHx8Kc"
      },
      "source": [
        "Select only rows where Discount_Applied = 1."
      ]
    },
    {
      "cell_type": "code",
      "execution_count": 52,
      "metadata": {
        "colab": {
          "base_uri": "https://localhost:8080/",
          "height": 206
        },
        "id": "Wv_urDO0zL-Z",
        "outputId": "319a8c2d-65fa-486e-9b08-4dd39e28b8c1"
      },
      "outputs": [
        {
          "data": {
            "text/html": [
              "<div>\n",
              "<style scoped>\n",
              "    .dataframe tbody tr th:only-of-type {\n",
              "        vertical-align: middle;\n",
              "    }\n",
              "\n",
              "    .dataframe tbody tr th {\n",
              "        vertical-align: top;\n",
              "    }\n",
              "\n",
              "    .dataframe thead th {\n",
              "        text-align: right;\n",
              "    }\n",
              "</style>\n",
              "<table border=\"1\" class=\"dataframe\">\n",
              "  <thead>\n",
              "    <tr style=\"text-align: right;\">\n",
              "      <th></th>\n",
              "      <th>customer_id</th>\n",
              "      <th>transaction_id</th>\n",
              "      <th>amount</th>\n",
              "      <th>Transaction_Rank</th>\n",
              "      <th>Discount_Applied</th>\n",
              "      <th>Discounted_Amount</th>\n",
              "      <th>Savings</th>\n",
              "    </tr>\n",
              "  </thead>\n",
              "  <tbody>\n",
              "    <tr>\n",
              "      <th>10</th>\n",
              "      <td>1001</td>\n",
              "      <td>374711</td>\n",
              "      <td>94</td>\n",
              "      <td>3</td>\n",
              "      <td>1</td>\n",
              "      <td>31.02</td>\n",
              "      <td>62.98</td>\n",
              "    </tr>\n",
              "    <tr>\n",
              "      <th>15</th>\n",
              "      <td>1002</td>\n",
              "      <td>415562</td>\n",
              "      <td>50</td>\n",
              "      <td>3</td>\n",
              "      <td>1</td>\n",
              "      <td>16.50</td>\n",
              "      <td>33.50</td>\n",
              "    </tr>\n",
              "    <tr>\n",
              "      <th>20</th>\n",
              "      <td>1003</td>\n",
              "      <td>102487</td>\n",
              "      <td>39</td>\n",
              "      <td>3</td>\n",
              "      <td>1</td>\n",
              "      <td>12.87</td>\n",
              "      <td>26.13</td>\n",
              "    </tr>\n",
              "    <tr>\n",
              "      <th>5</th>\n",
              "      <td>1004</td>\n",
              "      <td>528902</td>\n",
              "      <td>78</td>\n",
              "      <td>3</td>\n",
              "      <td>1</td>\n",
              "      <td>25.74</td>\n",
              "      <td>52.26</td>\n",
              "    </tr>\n",
              "    <tr>\n",
              "      <th>8</th>\n",
              "      <td>1005</td>\n",
              "      <td>500607</td>\n",
              "      <td>98</td>\n",
              "      <td>3</td>\n",
              "      <td>1</td>\n",
              "      <td>32.34</td>\n",
              "      <td>65.66</td>\n",
              "    </tr>\n",
              "  </tbody>\n",
              "</table>\n",
              "</div>"
            ],
            "text/plain": [
              "    customer_id  transaction_id  amount  Transaction_Rank  Discount_Applied  \\\n",
              "10         1001          374711      94                 3                 1   \n",
              "15         1002          415562      50                 3                 1   \n",
              "20         1003          102487      39                 3                 1   \n",
              "5          1004          528902      78                 3                 1   \n",
              "8          1005          500607      98                 3                 1   \n",
              "\n",
              "    Discounted_Amount  Savings  \n",
              "10              31.02    62.98  \n",
              "15              16.50    33.50  \n",
              "20              12.87    26.13  \n",
              "5               25.74    52.26  \n",
              "8               32.34    65.66  "
            ]
          },
          "execution_count": 52,
          "metadata": {},
          "output_type": "execute_result"
        }
      ],
      "source": [
        "dfnew[dfnew['Discount_Applied']==1]"
      ]
    },
    {
      "cell_type": "markdown",
      "metadata": {
        "id": "olpHwSwoyPC4"
      },
      "source": []
    },
    {
      "cell_type": "markdown",
      "metadata": {
        "id": "rsgc7gWMydv-"
      },
      "source": [
        "Output columns: customer_id, transaction_id, amount, discounted_amount."
      ]
    },
    {
      "cell_type": "code",
      "execution_count": 53,
      "metadata": {
        "colab": {
          "base_uri": "https://localhost:8080/",
          "height": 424
        },
        "id": "GkwlFOC0ygMl",
        "outputId": "86739a99-a93c-4540-af58-595f53408c62"
      },
      "outputs": [
        {
          "data": {
            "text/html": [
              "<div>\n",
              "<style scoped>\n",
              "    .dataframe tbody tr th:only-of-type {\n",
              "        vertical-align: middle;\n",
              "    }\n",
              "\n",
              "    .dataframe tbody tr th {\n",
              "        vertical-align: top;\n",
              "    }\n",
              "\n",
              "    .dataframe thead th {\n",
              "        text-align: right;\n",
              "    }\n",
              "</style>\n",
              "<table border=\"1\" class=\"dataframe\">\n",
              "  <thead>\n",
              "    <tr style=\"text-align: right;\">\n",
              "      <th></th>\n",
              "      <th>customer_id</th>\n",
              "      <th>transaction_id</th>\n",
              "      <th>amount</th>\n",
              "      <th>Discounted_Amount</th>\n",
              "    </tr>\n",
              "  </thead>\n",
              "  <tbody>\n",
              "    <tr>\n",
              "      <th>13</th>\n",
              "      <td>1001</td>\n",
              "      <td>225602</td>\n",
              "      <td>19</td>\n",
              "      <td>0.00</td>\n",
              "    </tr>\n",
              "    <tr>\n",
              "      <th>0</th>\n",
              "      <td>1001</td>\n",
              "      <td>339473</td>\n",
              "      <td>89</td>\n",
              "      <td>0.00</td>\n",
              "    </tr>\n",
              "    <tr>\n",
              "      <th>10</th>\n",
              "      <td>1001</td>\n",
              "      <td>374711</td>\n",
              "      <td>94</td>\n",
              "      <td>31.02</td>\n",
              "    </tr>\n",
              "    <tr>\n",
              "      <th>17</th>\n",
              "      <td>1001</td>\n",
              "      <td>445346</td>\n",
              "      <td>92</td>\n",
              "      <td>0.00</td>\n",
              "    </tr>\n",
              "    <tr>\n",
              "      <th>4</th>\n",
              "      <td>1001</td>\n",
              "      <td>530588</td>\n",
              "      <td>4</td>\n",
              "      <td>0.00</td>\n",
              "    </tr>\n",
              "    <tr>\n",
              "      <th>...</th>\n",
              "      <td>...</td>\n",
              "      <td>...</td>\n",
              "      <td>...</td>\n",
              "      <td>...</td>\n",
              "    </tr>\n",
              "    <tr>\n",
              "      <th>77</th>\n",
              "      <td>1005</td>\n",
              "      <td>900055</td>\n",
              "      <td>78</td>\n",
              "      <td>0.00</td>\n",
              "    </tr>\n",
              "    <tr>\n",
              "      <th>84</th>\n",
              "      <td>1005</td>\n",
              "      <td>900062</td>\n",
              "      <td>43</td>\n",
              "      <td>0.00</td>\n",
              "    </tr>\n",
              "    <tr>\n",
              "      <th>93</th>\n",
              "      <td>1005</td>\n",
              "      <td>900071</td>\n",
              "      <td>43</td>\n",
              "      <td>0.00</td>\n",
              "    </tr>\n",
              "    <tr>\n",
              "      <th>96</th>\n",
              "      <td>1005</td>\n",
              "      <td>900074</td>\n",
              "      <td>58</td>\n",
              "      <td>0.00</td>\n",
              "    </tr>\n",
              "    <tr>\n",
              "      <th>98</th>\n",
              "      <td>1005</td>\n",
              "      <td>900076</td>\n",
              "      <td>43</td>\n",
              "      <td>0.00</td>\n",
              "    </tr>\n",
              "  </tbody>\n",
              "</table>\n",
              "<p>100 rows × 4 columns</p>\n",
              "</div>"
            ],
            "text/plain": [
              "    customer_id  transaction_id  amount  Discounted_Amount\n",
              "13         1001          225602      19               0.00\n",
              "0          1001          339473      89               0.00\n",
              "10         1001          374711      94              31.02\n",
              "17         1001          445346      92               0.00\n",
              "4          1001          530588       4               0.00\n",
              "..          ...             ...     ...                ...\n",
              "77         1005          900055      78               0.00\n",
              "84         1005          900062      43               0.00\n",
              "93         1005          900071      43               0.00\n",
              "96         1005          900074      58               0.00\n",
              "98         1005          900076      43               0.00\n",
              "\n",
              "[100 rows x 4 columns]"
            ]
          },
          "execution_count": 53,
          "metadata": {},
          "output_type": "execute_result"
        }
      ],
      "source": [
        "dfnew[['customer_id','transaction_id','amount','Discounted_Amount']]"
      ]
    },
    {
      "cell_type": "markdown",
      "metadata": {
        "id": "0HXISJpuzYNj"
      },
      "source": [
        "Sort by customer_id ascending."
      ]
    },
    {
      "cell_type": "code",
      "execution_count": 54,
      "metadata": {
        "colab": {
          "base_uri": "https://localhost:8080/",
          "height": 424
        },
        "id": "NC-5EoEEzadD",
        "outputId": "d4515fed-0c4d-46da-bb5f-b64aa7672099"
      },
      "outputs": [
        {
          "data": {
            "text/html": [
              "<div>\n",
              "<style scoped>\n",
              "    .dataframe tbody tr th:only-of-type {\n",
              "        vertical-align: middle;\n",
              "    }\n",
              "\n",
              "    .dataframe tbody tr th {\n",
              "        vertical-align: top;\n",
              "    }\n",
              "\n",
              "    .dataframe thead th {\n",
              "        text-align: right;\n",
              "    }\n",
              "</style>\n",
              "<table border=\"1\" class=\"dataframe\">\n",
              "  <thead>\n",
              "    <tr style=\"text-align: right;\">\n",
              "      <th></th>\n",
              "      <th>customer_id</th>\n",
              "      <th>transaction_id</th>\n",
              "      <th>amount</th>\n",
              "      <th>Transaction_Rank</th>\n",
              "      <th>Discount_Applied</th>\n",
              "      <th>Discounted_Amount</th>\n",
              "      <th>Savings</th>\n",
              "    </tr>\n",
              "  </thead>\n",
              "  <tbody>\n",
              "    <tr>\n",
              "      <th>13</th>\n",
              "      <td>1001</td>\n",
              "      <td>225602</td>\n",
              "      <td>19</td>\n",
              "      <td>1</td>\n",
              "      <td>0</td>\n",
              "      <td>0.00</td>\n",
              "      <td>19.00</td>\n",
              "    </tr>\n",
              "    <tr>\n",
              "      <th>0</th>\n",
              "      <td>1001</td>\n",
              "      <td>339473</td>\n",
              "      <td>89</td>\n",
              "      <td>2</td>\n",
              "      <td>0</td>\n",
              "      <td>0.00</td>\n",
              "      <td>89.00</td>\n",
              "    </tr>\n",
              "    <tr>\n",
              "      <th>10</th>\n",
              "      <td>1001</td>\n",
              "      <td>374711</td>\n",
              "      <td>94</td>\n",
              "      <td>3</td>\n",
              "      <td>1</td>\n",
              "      <td>31.02</td>\n",
              "      <td>62.98</td>\n",
              "    </tr>\n",
              "    <tr>\n",
              "      <th>17</th>\n",
              "      <td>1001</td>\n",
              "      <td>445346</td>\n",
              "      <td>92</td>\n",
              "      <td>4</td>\n",
              "      <td>0</td>\n",
              "      <td>0.00</td>\n",
              "      <td>92.00</td>\n",
              "    </tr>\n",
              "    <tr>\n",
              "      <th>4</th>\n",
              "      <td>1001</td>\n",
              "      <td>530588</td>\n",
              "      <td>4</td>\n",
              "      <td>5</td>\n",
              "      <td>0</td>\n",
              "      <td>0.00</td>\n",
              "      <td>4.00</td>\n",
              "    </tr>\n",
              "    <tr>\n",
              "      <th>...</th>\n",
              "      <td>...</td>\n",
              "      <td>...</td>\n",
              "      <td>...</td>\n",
              "      <td>...</td>\n",
              "      <td>...</td>\n",
              "      <td>...</td>\n",
              "      <td>...</td>\n",
              "    </tr>\n",
              "    <tr>\n",
              "      <th>77</th>\n",
              "      <td>1005</td>\n",
              "      <td>900055</td>\n",
              "      <td>78</td>\n",
              "      <td>22</td>\n",
              "      <td>0</td>\n",
              "      <td>0.00</td>\n",
              "      <td>78.00</td>\n",
              "    </tr>\n",
              "    <tr>\n",
              "      <th>84</th>\n",
              "      <td>1005</td>\n",
              "      <td>900062</td>\n",
              "      <td>43</td>\n",
              "      <td>23</td>\n",
              "      <td>0</td>\n",
              "      <td>0.00</td>\n",
              "      <td>43.00</td>\n",
              "    </tr>\n",
              "    <tr>\n",
              "      <th>93</th>\n",
              "      <td>1005</td>\n",
              "      <td>900071</td>\n",
              "      <td>43</td>\n",
              "      <td>24</td>\n",
              "      <td>0</td>\n",
              "      <td>0.00</td>\n",
              "      <td>43.00</td>\n",
              "    </tr>\n",
              "    <tr>\n",
              "      <th>96</th>\n",
              "      <td>1005</td>\n",
              "      <td>900074</td>\n",
              "      <td>58</td>\n",
              "      <td>25</td>\n",
              "      <td>0</td>\n",
              "      <td>0.00</td>\n",
              "      <td>58.00</td>\n",
              "    </tr>\n",
              "    <tr>\n",
              "      <th>98</th>\n",
              "      <td>1005</td>\n",
              "      <td>900076</td>\n",
              "      <td>43</td>\n",
              "      <td>26</td>\n",
              "      <td>0</td>\n",
              "      <td>0.00</td>\n",
              "      <td>43.00</td>\n",
              "    </tr>\n",
              "  </tbody>\n",
              "</table>\n",
              "<p>100 rows × 7 columns</p>\n",
              "</div>"
            ],
            "text/plain": [
              "    customer_id  transaction_id  amount  Transaction_Rank  Discount_Applied  \\\n",
              "13         1001          225602      19                 1                 0   \n",
              "0          1001          339473      89                 2                 0   \n",
              "10         1001          374711      94                 3                 1   \n",
              "17         1001          445346      92                 4                 0   \n",
              "4          1001          530588       4                 5                 0   \n",
              "..          ...             ...     ...               ...               ...   \n",
              "77         1005          900055      78                22                 0   \n",
              "84         1005          900062      43                23                 0   \n",
              "93         1005          900071      43                24                 0   \n",
              "96         1005          900074      58                25                 0   \n",
              "98         1005          900076      43                26                 0   \n",
              "\n",
              "    Discounted_Amount  Savings  \n",
              "13               0.00    19.00  \n",
              "0                0.00    89.00  \n",
              "10              31.02    62.98  \n",
              "17               0.00    92.00  \n",
              "4                0.00     4.00  \n",
              "..                ...      ...  \n",
              "77               0.00    78.00  \n",
              "84               0.00    43.00  \n",
              "93               0.00    43.00  \n",
              "96               0.00    58.00  \n",
              "98               0.00    43.00  \n",
              "\n",
              "[100 rows x 7 columns]"
            ]
          },
          "execution_count": 54,
          "metadata": {},
          "output_type": "execute_result"
        }
      ],
      "source": [
        "dfnew"
      ]
    },
    {
      "cell_type": "markdown",
      "metadata": {
        "id": "MTBU_F6ezpKW"
      },
      "source": [
        "#Part 8 – Insights"
      ]
    },
    {
      "cell_type": "markdown",
      "metadata": {
        "id": "oM9a15vB1J8F"
      },
      "source": [
        "Which customer received the largest discount?"
      ]
    },
    {
      "cell_type": "code",
      "execution_count": 55,
      "metadata": {
        "colab": {
          "base_uri": "https://localhost:8080/",
          "height": 81
        },
        "id": "g_wYR8IMzsLA",
        "outputId": "6cbcb17e-7b6c-4072-d6e5-fdd9dba577be"
      },
      "outputs": [
        {
          "data": {
            "text/html": [
              "<div>\n",
              "<style scoped>\n",
              "    .dataframe tbody tr th:only-of-type {\n",
              "        vertical-align: middle;\n",
              "    }\n",
              "\n",
              "    .dataframe tbody tr th {\n",
              "        vertical-align: top;\n",
              "    }\n",
              "\n",
              "    .dataframe thead th {\n",
              "        text-align: right;\n",
              "    }\n",
              "</style>\n",
              "<table border=\"1\" class=\"dataframe\">\n",
              "  <thead>\n",
              "    <tr style=\"text-align: right;\">\n",
              "      <th></th>\n",
              "      <th>customer_id</th>\n",
              "      <th>transaction_id</th>\n",
              "      <th>amount</th>\n",
              "      <th>Transaction_Rank</th>\n",
              "      <th>Discount_Applied</th>\n",
              "      <th>Discounted_Amount</th>\n",
              "      <th>Savings</th>\n",
              "    </tr>\n",
              "  </thead>\n",
              "  <tbody>\n",
              "    <tr>\n",
              "      <th>8</th>\n",
              "      <td>1005</td>\n",
              "      <td>500607</td>\n",
              "      <td>98</td>\n",
              "      <td>3</td>\n",
              "      <td>1</td>\n",
              "      <td>32.34</td>\n",
              "      <td>65.66</td>\n",
              "    </tr>\n",
              "  </tbody>\n",
              "</table>\n",
              "</div>"
            ],
            "text/plain": [
              "   customer_id  transaction_id  amount  Transaction_Rank  Discount_Applied  \\\n",
              "8         1005          500607      98                 3                 1   \n",
              "\n",
              "   Discounted_Amount  Savings  \n",
              "8              32.34    65.66  "
            ]
          },
          "execution_count": 55,
          "metadata": {},
          "output_type": "execute_result"
        }
      ],
      "source": [
        "dfnew[dfnew['Discounted_Amount']==dfnew['Discounted_Amount'].max()]"
      ]
    },
    {
      "cell_type": "markdown",
      "metadata": {
        "id": "kkG_c7D91BQI"
      },
      "source": [
        "What is the total amount Kelly discounted across all customers?"
      ]
    },
    {
      "cell_type": "code",
      "execution_count": 56,
      "metadata": {
        "colab": {
          "base_uri": "https://localhost:8080/"
        },
        "id": "Ag3oGk-41Exh",
        "outputId": "2e3d487a-b218-4c84-f68d-0275e797bdd7"
      },
      "outputs": [
        {
          "name": "stdout",
          "output_type": "stream",
          "text": [
            "Total amount kelly discounted all customer:\n",
            "118.47\n"
          ]
        }
      ],
      "source": [
        "print('Total amount kelly discounted all customer:')\n",
        "print(dfnew['Discounted_Amount'].sum())"
      ]
    },
    {
      "cell_type": "markdown",
      "metadata": {
        "id": "fOCtqPvd1aYt"
      },
      "source": [
        "What is the average saving per customer?"
      ]
    },
    {
      "cell_type": "code",
      "execution_count": 57,
      "metadata": {
        "colab": {
          "base_uri": "https://localhost:8080/"
        },
        "id": "OYOxb2Zt1-ph",
        "outputId": "a2f43b95-ebf3-4348-cabd-8900be3f1367"
      },
      "outputs": [
        {
          "name": "stdout",
          "output_type": "stream",
          "text": [
            "The average saving per customer\n",
            "53.67\n"
          ]
        }
      ],
      "source": [
        "print('The average saving per customer')\n",
        "print(dfnew['Savings'].mean().round(2))"
      ]
    },
    {
      "cell_type": "markdown",
      "metadata": {
        "id": "qtFWf0k_2qV4"
      },
      "source": [
        "Which customers spent the most after the discount?"
      ]
    },
    {
      "cell_type": "code",
      "execution_count": 58,
      "metadata": {
        "colab": {
          "base_uri": "https://localhost:8080/"
        },
        "id": "m0qXUmjm2s6e",
        "outputId": "6b5c5287-7655-4cdd-825f-d65c22e6e8ec"
      },
      "outputs": [
        {
          "name": "stdout",
          "output_type": "stream",
          "text": [
            "   customer_id  Discounted_Amount\n",
            "0         1005              32.34\n"
          ]
        }
      ],
      "source": [
        "spent=dfnew.groupby('customer_id')['Discounted_Amount'].sum().sort_values(ascending=False).reset_index()\n",
        "print(spent.head(1))"
      ]
    },
    {
      "cell_type": "code",
      "execution_count": 59,
      "metadata": {
        "colab": {
          "base_uri": "https://localhost:8080/"
        },
        "id": "1MOmBYfCqAhG",
        "outputId": "7ee1d23d-e088-49a4-9cbc-3783b14bef25"
      },
      "outputs": [
        {
          "data": {
            "text/plain": [
              "array([1001, 1002, 1003, 1004, 1005])"
            ]
          },
          "execution_count": 59,
          "metadata": {},
          "output_type": "execute_result"
        }
      ],
      "source": [
        "df['customer_id'].unique()"
      ]
    }
  ],
  "metadata": {
    "colab": {
      "provenance": []
    },
    "kernelspec": {
      "display_name": "Python 3",
      "name": "python3"
    },
    "language_info": {
      "codemirror_mode": {
        "name": "ipython",
        "version": 3
      },
      "file_extension": ".py",
      "mimetype": "text/x-python",
      "name": "python",
      "nbconvert_exporter": "python",
      "pygments_lexer": "ipython3",
      "version": "3.12.0"
    }
  },
  "nbformat": 4,
  "nbformat_minor": 0
}
